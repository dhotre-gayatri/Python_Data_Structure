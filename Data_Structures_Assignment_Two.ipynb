{
 "cells": [
  {
   "cell_type": "code",
   "execution_count": 7,
   "id": "db40db00",
   "metadata": {},
   "outputs": [
    {
     "data": {
      "text/plain": [
       "'z , y , x , w , v , u , t , s , r , q, p , o , n , m ,l , k , j , i , h , g , f , e , d , c , b , a'"
      ]
     },
     "execution_count": 7,
     "metadata": {},
     "output_type": "execute_result"
    }
   ],
   "source": [
    "# 1. Write code to reverse string\n",
    "string = \"a , b , c , d , e , f , g , h , i , j , k , l, m , n , o , p ,q , r , s , t , u , v , w , x , y , z\"\n",
    "string[: : -1]"
   ]
  },
  {
   "cell_type": "code",
   "execution_count": 17,
   "id": "21f6fc95",
   "metadata": {},
   "outputs": [
    {
     "name": "stdout",
     "output_type": "stream",
     "text": [
      "Enter the String : \"Gayatri, Dhotre\"\n",
      "5\n"
     ]
    }
   ],
   "source": [
    "# 2. Count No. of Vowels in string\n",
    "string = input(\"Enter the String : \")\n",
    "vowels = 0\n",
    "for i in string :\n",
    "    if(i == \"a\" or i == \"e\" or i == \"i\" or i == \"o\" or i == \"u\" or i == \"A\" or i == \"E\" or i == \"I\" or i == \"O\" or i == \"U\" ) :\n",
    "         vowels = vowels + 1\n",
    "print(vowels)\n",
    "      "
   ]
  },
  {
   "cell_type": "code",
   "execution_count": 19,
   "id": "539e266c",
   "metadata": {},
   "outputs": [
    {
     "name": "stdout",
     "output_type": "stream",
     "text": [
      "Enter the String : nayan\n",
      "Palindrom\n"
     ]
    }
   ],
   "source": [
    "# 3. Write a code to check given string palindrom or not\n",
    "string = input(\"Enter the String : \")\n",
    "if string == string[: : -1] :\n",
    "    print(\"Palindrom\")\n",
    "else :\n",
    "    print(\"Not Palindrom\")"
   ]
  },
  {
   "cell_type": "code",
   "execution_count": null,
   "id": "d80e90d9",
   "metadata": {},
   "outputs": [],
   "source": [
    "# 4. Write a code to check if two given strings are anagrams of each other >> \n",
    "# An anagram of a string is another string that contains the same characters, only the order of characters can be different\n",
    "string1 = input(\"Enter the string 1 : \")\n",
    "string2 = input(\"Enter string 2 : \")\n",
    "\n",
    "string1 = sorted(string1)\n",
    "string2 = sorted(string2)\n",
    "\n",
    "\n",
    "\n",
    "if (string1 == string2) :print(\"Stirngs are Anagram \"  )\n",
    "else :print(\"Strings are not Anagram\")"
   ]
  },
  {
   "cell_type": "code",
   "execution_count": 10,
   "id": "27f92c23",
   "metadata": {},
   "outputs": [],
   "source": []
  },
  {
   "cell_type": "code",
   "execution_count": 3,
   "id": "720caf21",
   "metadata": {},
   "outputs": [
    {
     "name": "stdout",
     "output_type": "stream",
     "text": [
      "Enter the string : keep quite here\n",
      "Enter sub-string : quite here\n",
      "5\n"
     ]
    }
   ],
   "source": [
    "# 5. Write a code to find all occurrences of a given substring within another string\n",
    "string = input(\"Enter the string : \")\n",
    "substring = input(\"Enter sub-string : \")\n",
    "\n",
    "print(string.index(substring))"
   ]
  },
  {
   "cell_type": "code",
   "execution_count": 2,
   "id": "9ff7fcbb",
   "metadata": {},
   "outputs": [],
   "source": [
    "# 6. Write a code to perform basic string compression using the counts of repeated character"
   ]
  },
  {
   "cell_type": "code",
   "execution_count": 3,
   "id": "404bcb54",
   "metadata": {},
   "outputs": [
    {
     "name": "stdout",
     "output_type": "stream",
     "text": [
      "Enter the string : silent\n",
      "Not Unique\n",
      "Not Unique\n",
      "Not Unique\n",
      "Not Unique\n",
      "Not Unique\n",
      "Not Unique\n"
     ]
    }
   ],
   "source": [
    "# 7. Write a code to determine if a string has all unique characters\n",
    "string = input(\"Enter the string : \")\n",
    "i = 0\n",
    "j = 0\n",
    "\n",
    "    \n",
    "    "
   ]
  },
  {
   "cell_type": "code",
   "execution_count": 4,
   "id": "0fd72884",
   "metadata": {},
   "outputs": [
    {
     "name": "stdout",
     "output_type": "stream",
     "text": [
      "Enter the string : listen\n",
      "LISTEN\n",
      "listen\n"
     ]
    }
   ],
   "source": [
    " # 8. Write a code to convert a given string to uppercase or lowercas\n",
    "string = input(\"Enter the string : \")\n",
    "string1 = string.upper()\n",
    "string2 = string.lower()\n",
    "\n",
    "print(string1)\n",
    "print(string2)\n"
   ]
  },
  {
   "cell_type": "code",
   "execution_count": 8,
   "id": "ce10d3e1",
   "metadata": {},
   "outputs": [
    {
     "name": "stdout",
     "output_type": "stream",
     "text": [
      "Enter the string : pankaj sir is pankaj sir\n",
      "24\n"
     ]
    }
   ],
   "source": [
    "# 9. Write a code to count the number of words in a string\n",
    "string = input(\"Enter the string : \")\n",
    "count = 0\n",
    "for i in string:\n",
    "    count+=1\n",
    "print(count)"
   ]
  },
  {
   "cell_type": "code",
   "execution_count": 3,
   "id": "40ccea74",
   "metadata": {},
   "outputs": [
    {
     "name": "stdout",
     "output_type": "stream",
     "text": [
      "Enter the string1 : Gayatri\n",
      "Enter the string2 : Dhotre\n",
      "('Gayatri', 'Dhotre')\n"
     ]
    }
   ],
   "source": [
    "# 10. Write a code to concatenate two strings without using the + operator\n",
    "string1 = input(\"Enter the string1 : \")\n",
    "string2 = input(\"Enter the string2 : \")\n",
    "\n",
    "strg = (string1,string2)\n",
    "print(strg)"
   ]
  },
  {
   "cell_type": "code",
   "execution_count": 4,
   "id": "879ee6ad",
   "metadata": {},
   "outputs": [
    {
     "name": "stdout",
     "output_type": "stream",
     "text": [
      "Enter the string1 : Gayatri\n",
      "Enter the string2 : Dhotre\n",
      "Gayatri Dhotre\n"
     ]
    }
   ],
   "source": [
    "string1 = input(\"Enter the string1 : \")\n",
    "string2 = input(\"Enter the string2 : \")\n",
    "\n",
    "strg = \" \".join([string1,string2])\n",
    "print(strg)"
   ]
  },
  {
   "cell_type": "code",
   "execution_count": 8,
   "id": "20f35d51",
   "metadata": {},
   "outputs": [
    {
     "name": "stdout",
     "output_type": "stream",
     "text": [
      "['Shravani', 'Vidya', 'Ashwini', 'Payal']\n"
     ]
    }
   ],
   "source": [
    "# 11. Write a code to remove all occurrences of a specific element from a list\n",
    "li = [\"Gayatri\", \"Shravani\", \"Vidya\" , \"Ashwini\", \"Payal\", \"Gayatri\"]\n",
    "value = \"Gayatri\"\n",
    "while value in li:\n",
    "    li.remove(value)\n",
    "print(li)\n"
   ]
  },
  {
   "cell_type": "code",
   "execution_count": 13,
   "id": "5b730b52",
   "metadata": {},
   "outputs": [
    {
     "name": "stdout",
     "output_type": "stream",
     "text": [
      "Enter how many no.of elements you want in list5\n",
      "10\n",
      "20\n",
      "30\n",
      "40\n",
      "50\n",
      "Second largest element is  40\n"
     ]
    }
   ],
   "source": [
    "# 12. Implement a code to find the second largest number in a given list of integers\n",
    "n = int(input(\"Enter how many no.of elements you want in list\"))\n",
    "li = []\n",
    "for i in range(n):\n",
    "    inp = int(input())\n",
    "    li.append(inp)\n",
    "\n",
    "li.remove(max(li))\n",
    "print(\"Second largest element is \",max(li))\n",
    "    \n",
    "              "
   ]
  },
  {
   "cell_type": "code",
   "execution_count": null,
   "id": "bc362b2f",
   "metadata": {},
   "outputs": [],
   "source": [
    "# 13. Create a code to count the occurrences of each element in a list and return a dictionary with elements as keys and their counts as values\n"
   ]
  },
  {
   "cell_type": "code",
   "execution_count": 14,
   "id": "6748f255",
   "metadata": {},
   "outputs": [
    {
     "name": "stdout",
     "output_type": "stream",
     "text": [
      "Enter how many no.of elements you want in list5\n",
      "10\n",
      "20\n",
      "30\n",
      "40\n",
      "50\n",
      "[50, 40, 30, 20, 10]\n"
     ]
    }
   ],
   "source": [
    "# 14. Write a code to reverse a list in-place without using any built-in reverse functions\n",
    "n = int(input(\"Enter how many no.of elements you want in list\"))\n",
    "li = []\n",
    "for i in range(n):\n",
    "    inp = int(input())\n",
    "    li.append(inp)\n",
    "print(li[ : :-1])\n"
   ]
  },
  {
   "cell_type": "code",
   "execution_count": 12,
   "id": "c7116393",
   "metadata": {},
   "outputs": [
    {
     "name": "stdout",
     "output_type": "stream",
     "text": [
      "Enter the String : Gayatri\n",
      "['G', 'a', 'y', 'a', 't', 'r', 'i']\n",
      "['G', 'a', 'y', 't', 'r', 'i']\n"
     ]
    }
   ],
   "source": [
    "# 15. Implement a code to find and remove duplicates from a list while preserving the original order of elements\n",
    "\n",
    "s = input(\"Enter the String : \")\n",
    "spl = list(s)\n",
    "print(spl)\n",
    "duplicate_removed = []\n",
    "for i in spl : \n",
    "    if i not in duplicate_removed :\n",
    "        duplicate_removed.append(i)\n",
    "print(duplicate_removed)"
   ]
  },
  {
   "cell_type": "code",
   "execution_count": 10,
   "id": "df39517e",
   "metadata": {},
   "outputs": [
    {
     "name": "stdout",
     "output_type": "stream",
     "text": [
      "Enter how many elements you want in list : 5\n",
      "2\n",
      "7\n",
      "3\n",
      "5\n",
      "9\n",
      "List is not sorted\n"
     ]
    }
   ],
   "source": [
    "# 16.  Create a code to check if a given list is sorted (either in ascending or descending order) or not\n",
    "n = int(input(\"Enter how many elements you want in list : \"))\n",
    "li = []\n",
    "for i in range(n):\n",
    "    inp = int(input())\n",
    "    li.append(inp)\n",
    "\n",
    "    \n",
    "if(sorted(li) == True):\n",
    "    print(\"List is sorted\")\n",
    "else:\n",
    "    print(\"List is not sorted\")\n",
    "    "
   ]
  },
  {
   "cell_type": "code",
   "execution_count": 10,
   "id": "74b59c8b",
   "metadata": {},
   "outputs": [
    {
     "name": "stdout",
     "output_type": "stream",
     "text": [
      "Enter sorted list 1 : 1357\n",
      "Enter sorted list 1 : 2468\n",
      "['1', '2', '3', '4', '5', '6', '7', '8']\n"
     ]
    }
   ],
   "source": [
    " # 17. Write a code to merge two sorted lists into a single sorted list\n",
    "sorted_list1 = list(input(\"Enter sorted list 1 : \"))\n",
    "sorted_list2 = list(input(\"Enter sorted list 1 : \"))\n",
    "sorted_list3 = []\n",
    "for i in sorted_list1 :\n",
    "     sorted_list3.append(i)\n",
    "for j in sorted_list2 :\n",
    "            sorted_list3.append(j)\n",
    "sorted_list3.sort()\n",
    "print(sorted_list3)        "
   ]
  },
  {
   "cell_type": "code",
   "execution_count": 18,
   "id": "74f5d8d5",
   "metadata": {
    "scrolled": true
   },
   "outputs": [
    {
     "name": "stdout",
     "output_type": "stream",
     "text": [
      "Enter sorted list 1 : GAYATRI\n",
      "Enter sorted list 1 : DHOTRE\n",
      "['R', 'T']\n"
     ]
    }
   ],
   "source": [
    "# 18. Implement a code to find the intersection of two given lists\n",
    "sorted_list1 = list(input(\"Enter sorted list 1 : \"))\n",
    "sorted_list2 = list(input(\"Enter sorted list 1 : \"))\n",
    "sorted_list1.sort()\n",
    "sorted_list2.sort()\n",
    "intersection = []\n",
    "for i in sorted_list1 :\n",
    "    for j in sorted_list2 :\n",
    "        if i == j :\n",
    "            intersection.append(i)\n",
    "print(intersection)"
   ]
  },
  {
   "cell_type": "code",
   "execution_count": 2,
   "id": "82c2dc52",
   "metadata": {},
   "outputs": [
    {
     "name": "stdout",
     "output_type": "stream",
     "text": [
      "Enter sorted list 1 : 12345\n",
      "Enter sorted list 2 : 456789\n",
      "['1', '2', '3', '4', '5', '6', '7', '8', '9']\n"
     ]
    }
   ],
   "source": [
    "# 19. Create a code to find the union of two lists without duplicates\n",
    "sorted_list1 = list(input(\"Enter sorted list 1 : \"))\n",
    "sorted_list2 = list(input(\"Enter sorted list 2 : \"))\n",
    "list3 = []\n",
    "for i in sorted_list1 :\n",
    "     for j in sorted_list2 :\n",
    "            list3.append(j)\n",
    "            list3.append(i)\n",
    "lis = sorted(set(list3))                \n",
    "print(lis)\n"
   ]
  },
  {
   "cell_type": "code",
   "execution_count": 3,
   "id": "0b91ff04",
   "metadata": {},
   "outputs": [
    {
     "name": "stdout",
     "output_type": "stream",
     "text": [
      "[5, 2, 1, 4, 3]\n"
     ]
    }
   ],
   "source": [
    "# 20. Write a code to shuffle a given list randomly without using any built-in shuffle functions \n",
    "shuffle = [1, 2, 3, 4, 5]\n",
    "for i in range(len(shuffle) - 1, 0, -1):  \n",
    "    j = int(i * (123456789 % 997) % (i + 1)) \n",
    "    shuffle[i], shuffle[j] = shuffle[j], shuffle[i]  \n",
    "print(shuffle)\n",
    "\n"
   ]
  },
  {
   "cell_type": "code",
   "execution_count": 7,
   "id": "bcf07eaf",
   "metadata": {},
   "outputs": [
    {
     "name": "stdout",
     "output_type": "stream",
     "text": [
      "Enter tuple 1 : 12345\n",
      "Enter tuple 2 : 45678\n",
      "('4', '5')\n"
     ]
    }
   ],
   "source": [
    "# 21. Write a code that takes two tuples as input and returns a new tuple containing elements that are common to both input tuples\n",
    "tup1 = tuple(input(\"Enter tuple 1 : \"))\n",
    "tup2 = tuple(input(\"Enter tuple 2 : \"))\n",
    "tup3 = set([])\n",
    "for i in tup1 :\n",
    "    for j in tup2 :\n",
    "        if i == j :\n",
    "            tup3.add(i)\n",
    "tup = tuple(tup3)\n",
    "print(tup)"
   ]
  },
  {
   "cell_type": "code",
   "execution_count": 16,
   "id": "df368feb",
   "metadata": {},
   "outputs": [
    {
     "name": "stdout",
     "output_type": "stream",
     "text": [
      "Enter set 1 : 12345\n",
      "Enter set 2 : 2345678\n",
      "{'3', '2', '5', '4'}\n"
     ]
    }
   ],
   "source": [
    "# 22. Create a code that prompts the user to enter two sets of integers separated by commas. Then, print the intersection of these two set\n",
    "\n",
    "set1 = set(input(\"Enter set 1 : \"))\n",
    "set2 = set(input(\"Enter set 2 : \"))\n",
    "print(set1 & set2)\n"
   ]
  },
  {
   "cell_type": "code",
   "execution_count": 3,
   "id": "e7862c28",
   "metadata": {},
   "outputs": [
    {
     "name": "stdout",
     "output_type": "stream",
     "text": [
      "Enter the first tuple : 12345\n",
      "Enter the Second tuple : 6789\n"
     ]
    }
   ],
   "source": [
    "# 23. Write a code to concatenate two tuples. The function should take two tuples as input and return a new \n",
    "#     tuple containing elements from both input tuples.\n",
    "tup1 = tuple(input(\"Enter the first tuple : \"))\n",
    "tup2 = tuple(input(\"Enter the Second tuple : \"))\n",
    "def tup(tup1,tup2):\n",
    "    tupel = tuple(tup1+tup2)\n",
    "    return tupel"
   ]
  },
  {
   "cell_type": "code",
   "execution_count": 4,
   "id": "2ca47ede",
   "metadata": {},
   "outputs": [
    {
     "data": {
      "text/plain": [
       "('1', '2', '3', '4', '5', '6', '7', '8', '9')"
      ]
     },
     "execution_count": 4,
     "metadata": {},
     "output_type": "execute_result"
    }
   ],
   "source": [
    "tup(tup1,tup2)"
   ]
  },
  {
   "cell_type": "code",
   "execution_count": 16,
   "id": "0f63daa0",
   "metadata": {},
   "outputs": [],
   "source": [
    "# 25. Create a code that takes a tuple and two integers as input. The function should return a new tuple \n",
    "#     containing elements from the original tuple within the specified range of indices\n",
    "def new_tuple(tup1 , n , m):\n",
    "    return tup1[n : m ]   "
   ]
  },
  {
   "cell_type": "code",
   "execution_count": 17,
   "id": "8053fec4",
   "metadata": {},
   "outputs": [
    {
     "name": "stdout",
     "output_type": "stream",
     "text": [
      "Enter the first tuple : 123456\n",
      "Enter starting index : 2\n",
      "Enter end index : 7\n"
     ]
    },
    {
     "data": {
      "text/plain": [
       "('3', '4', '5', '6')"
      ]
     },
     "execution_count": 17,
     "metadata": {},
     "output_type": "execute_result"
    }
   ],
   "source": [
    "tup1 = tuple(input(\"Enter the first tuple : \"))\n",
    "n = int(input(\"Enter starting index : \"))\n",
    "m = int(input(\"Enter end index : \"))\n",
    "new_tuple(tup1 , n , m)"
   ]
  },
  {
   "cell_type": "code",
   "execution_count": 2,
   "id": "1f1c95bf",
   "metadata": {},
   "outputs": [
    {
     "name": "stdout",
     "output_type": "stream",
     "text": [
      "Enter set 1 : Gayatri\n",
      "Enter set 2 : Dhotre\n",
      "['D', 'G', 'a', 'e', 'h', 'i', 'o', 'r', 't', 'y']\n"
     ]
    }
   ],
   "source": [
    "# 26. Write a code that prompts the user to input two sets of characters. Then, print the union of these two sets\n",
    "set1 = set(input(\"Enter set 1 : \"))\n",
    "set2 = set(input(\"Enter set 2 : \"))\n",
    "set3 = set1.union(set2)\n",
    "print(sorted(set3))"
   ]
  },
  {
   "cell_type": "code",
   "execution_count": 5,
   "id": "8adb657f",
   "metadata": {},
   "outputs": [
    {
     "name": "stdout",
     "output_type": "stream",
     "text": [
      "Max: 10 Min: -4\n"
     ]
    }
   ],
   "source": [
    "# 27.  Develop a code that takes a tuple of integers as input. The function should return the maximum and \n",
    "#      minimum values from the tuple using tuple unpacking\n",
    "\n",
    "def find_max_min(input_tuple):\n",
    "    max_val, min_val = input_tuple[0], input_tuple[0]  \n",
    "    for num in input_tuple[1:]:  \n",
    "        if num > max_val:        \n",
    "            max_val = num        \n",
    "        if num < min_val:       \n",
    "            min_val = num        \n",
    "\n",
    "    return max_val, min_val     \n",
    "result = find_max_min((3, 1, 5, 2, 10, -4))\n",
    "print(\"Max:\", result[0], \"Min:\", result[1])"
   ]
  },
  {
   "cell_type": "code",
   "execution_count": 6,
   "id": "91ae8997",
   "metadata": {},
   "outputs": [
    {
     "name": "stdout",
     "output_type": "stream",
     "text": [
      "Union: {1, 2, 3, 4, 5, 6, 7, 8}\n",
      "Intersection: {4, 5}\n",
      "Difference (set_a - set_b): {1, 2, 3}\n",
      "Difference (set_b - set_a): {8, 6, 7}\n"
     ]
    }
   ],
   "source": [
    "# 28. Create a code that defines two sets of integers. Then, print the union, intersection, and difference of these two sets\n",
    "set_a = {1, 2, 3, 4, 5}\n",
    "set_b = {4, 5, 6, 7, 8}\n",
    "\n",
    "\n",
    "union_result = set_a | set_b\n",
    "print(\"Union:\", union_result)\n",
    "\n",
    "\n",
    "intersection_result = set_a & set_b\n",
    "print(\"Intersection:\", intersection_result)\n",
    "\n",
    "difference_result_a_b = set_a - set_b\n",
    "print(\"Difference (set_a - set_b):\", difference_result_a_b)\n",
    "\n",
    "difference_result_b_a = set_b - set_a\n",
    "print(\"Difference (set_b - set_a):\", difference_result_b_a)"
   ]
  },
  {
   "cell_type": "code",
   "execution_count": 7,
   "id": "f9bc4d12",
   "metadata": {},
   "outputs": [
    {
     "name": "stdout",
     "output_type": "stream",
     "text": [
      "Count of occurrences: 3\n"
     ]
    }
   ],
   "source": [
    "# 29. Write a code that takes a tuple and an element as input. The function should return the count of \n",
    "#     occurrences of the given element in the tuple\n",
    "\n",
    "def count_occurrences(input_tuple, element):\n",
    "    count = 0 \n",
    "\n",
    "    for item in input_tuple:  \n",
    "        if item == element:   \n",
    "            count += 1       \n",
    "    return count  \n",
    "\n",
    "result = count_occurrences((1, 2, 3, 2, 4, 2, 5), 2)\n",
    "print(\"Count of occurrences:\", result)"
   ]
  },
  {
   "cell_type": "code",
   "execution_count": 8,
   "id": "3f248737",
   "metadata": {},
   "outputs": [
    {
     "name": "stdout",
     "output_type": "stream",
     "text": [
      "Enter elements for the first set, separated by spaces: Gayatri Ramesh Dhotre\n",
      "Enter elements for the second set, separated by spaces: Shravani Ramesh Dhotre\n",
      "Symmetric Difference: {'Shravani', 'Gayatri'}\n"
     ]
    }
   ],
   "source": [
    "# 30. Develop a code that prompts the user to input two sets of strings. Then, print the symmetric difference of these two sets\n",
    "set_a = set(input(\"Enter elements for the first set, separated by spaces: \").split())\n",
    "set_b = set(input(\"Enter elements for the second set, separated by spaces: \").split())\n",
    "\n",
    "# Calculate the symmetric difference of set_a and set_b\n",
    "symmetric_difference = set_a ^ set_b\n",
    "\n",
    "# Print the symmetric difference\n",
    "print(\"Symmetric Difference:\", symmetric_difference)"
   ]
  },
  {
   "cell_type": "code",
   "execution_count": 9,
   "id": "1e6e3bc7",
   "metadata": {},
   "outputs": [
    {
     "name": "stdout",
     "output_type": "stream",
     "text": [
      "Enter a list of words separated by spaces: Gayatri Ramesh Dhotre\n",
      "Word frequencies: {'Gayatri': 1, 'Ramesh': 1, 'Dhotre': 1}\n"
     ]
    }
   ],
   "source": [
    "# 31.  Write a code that takes a list of words as input and returns a dictionary where the keys are unique words \n",
    "#      and the values are the frequencies of those words in the input list\n",
    "def word_frequencies(word_list):\n",
    "    frequency_dict = {}  \n",
    "    for word in word_list:  \n",
    "        if word in frequency_dict:  \n",
    "            frequency_dict[word] += 1  \n",
    "        else:\n",
    "            frequency_dict[word] = 1  \n",
    "\n",
    "    return frequency_dict  \n",
    "\n",
    "\n",
    "words = input(\"Enter a list of words separated by spaces: \").split()  \n",
    "result = word_frequencies(words)  \n",
    "print(\"Word frequencies:\", result) "
   ]
  },
  {
   "cell_type": "code",
   "execution_count": 10,
   "id": "4196199f",
   "metadata": {},
   "outputs": [
    {
     "name": "stdout",
     "output_type": "stream",
     "text": [
      "Merged dictionary: {'a': 5, 'b': 13, 'c': 22, 'd': 12}\n"
     ]
    }
   ],
   "source": [
    "# 32. Write a code that takes two dictionaries as input and merges them into a single dictionary. If there are \n",
    "#     common keys, the values should be added together\n",
    "def merge_dictionaries(dict1, dict2):\n",
    "    merged_dict = dict1.copy() \n",
    "    for key, value in dict2.items(): \n",
    "        if key in merged_dict:  \n",
    "            merged_dict[key] += value  \n",
    "        else:\n",
    "            merged_dict[key] = value  \n",
    "\n",
    "    return merged_dict  \n",
    "\n",
    "# Example usage\n",
    "dict1 = {'a': 5, 'b': 10, 'c': 15}\n",
    "dict2 = {'b': 3, 'c': 7, 'd': 12}\n",
    "result = merge_dictionaries(dict1, dict2)\n",
    "print(\"Merged dictionary:\", result)"
   ]
  },
  {
   "cell_type": "code",
   "execution_count": null,
   "id": "cf246f94",
   "metadata": {},
   "outputs": [],
   "source": []
  }
 ],
 "metadata": {
  "kernelspec": {
   "display_name": "Python 3 (ipykernel)",
   "language": "python",
   "name": "python3"
  },
  "language_info": {
   "codemirror_mode": {
    "name": "ipython",
    "version": 3
   },
   "file_extension": ".py",
   "mimetype": "text/x-python",
   "name": "python",
   "nbconvert_exporter": "python",
   "pygments_lexer": "ipython3",
   "version": "3.11.5"
  }
 },
 "nbformat": 4,
 "nbformat_minor": 5
}
