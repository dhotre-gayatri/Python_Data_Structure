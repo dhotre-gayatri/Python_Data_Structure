{
 "cells": [
  {
   "cell_type": "code",
   "execution_count": 1,
   "id": "b9a9d94a",
   "metadata": {},
   "outputs": [
    {
     "name": "stdout",
     "output_type": "stream",
     "text": [
      "Hello\n",
      "World!\n",
      "Hlo ol!\n"
     ]
    }
   ],
   "source": [
    "# 1. Discuss string slicing and provide examples\n",
    "\n",
    "'''\n",
    " # String slicing allows you to extract a portion of a string by specifying a start, stop, and step index.\n",
    " \n",
    " Syntax is : \n",
    "                string[start:stop:step]\n",
    "\n",
    "where ,  start: Starting index (inclusive)\n",
    "         end: Ending index (exclusive)\n",
    "         step: Specifies the steps to take (optional). default step index is 1\n",
    "\n",
    "\n",
    "'''\n",
    "# Example of slicing\n",
    "\n",
    "text = \"Hello, World!\"\n",
    "# Slice from index 0 to 5\n",
    "print(text[0:5])  # Output: Hello\n",
    "\n",
    "# Slice from index 7 to the end\n",
    "print(text[7:])   # Output: World!\n",
    "\n",
    "# Slice with step 2 (every second character)\n",
    "print(text[::2])  # Output: Hoo ol!"
   ]
  },
  {
   "cell_type": "code",
   "execution_count": 2,
   "id": "71c4355c",
   "metadata": {},
   "outputs": [
    {
     "name": "stdout",
     "output_type": "stream",
     "text": [
      "['apple', 'banana', 'cherry', 'apple']\n",
      "[1, 2, 3, 4, 5]\n"
     ]
    }
   ],
   "source": [
    "# 2. Explain the key features of lists in Python\n",
    "\n",
    "'''\n",
    "# A list is a collection of items in Python. Lists are ordered, mutable, and allow duplicate values.\n",
    "\n",
    "# Ordered: Items in a list have a defined order and can be accessed by index.\n",
    "\n",
    "# Mutable: You can change the values of elements in a list.\n",
    "\n",
    "# Duplicates Allowed: Lists can store duplicate items.\n",
    "\n",
    "\n",
    "'''\n",
    "# Example 1\n",
    "fruits = [\"apple\", \"banana\", \"cherry\", \"apple\"]\n",
    "print(fruits)  # Output: ['apple', 'banana', 'cherry', 'apple']\n",
    "\n",
    "# Example 2\n",
    "my_list = [1, 2, 3, 4, 5]\n",
    "print(my_list)  # Output: [1, 2, 3, 4, 5]\n"
   ]
  },
  {
   "cell_type": "code",
   "execution_count": 3,
   "id": "8bd83812",
   "metadata": {},
   "outputs": [
    {
     "name": "stdout",
     "output_type": "stream",
     "text": [
      "30\n",
      "[10, 25, 30, 40, 50]\n",
      "[10, 25, 30, 50]\n",
      "[10, 25, 50]\n",
      "50\n",
      "[10, 25]\n"
     ]
    }
   ],
   "source": [
    "# 3. Describe how to access, modify, and delete elements in a list with examples\n",
    "'''\n",
    "# Access: You access elements by index.\n",
    "\n",
    "# Modify: You can change an element using its index.\n",
    "\n",
    "# Delete: You can remove elements using methods like del, remove(), or pop().\n",
    "\n",
    "'''\n",
    "# Examples \n",
    "my_list = [10, 20, 30, 40, 50]\n",
    "\n",
    "# Access element at index 2\n",
    "print(my_list[2])  # Output: 30\n",
    "\n",
    "# Modify element at index 1\n",
    "my_list[1] = 25\n",
    "print(my_list)  # Output: [10, 25, 30, 40, 50]\n",
    "\n",
    "# Delete element at index 3 using del\n",
    "del my_list[3]\n",
    "print(my_list)  # Output: [10, 25, 30, 50]\n",
    "\n",
    "# Remove element by value using remove\n",
    "my_list.remove(30)\n",
    "print(my_list)  # Output: [10, 25, 50]\n",
    "\n",
    "# Pop an element from the end\n",
    "popped_item = my_list.pop()\n",
    "print(popped_item)  # Output: 50\n",
    "print(my_list)  # Output: [10, 25]"
   ]
  },
  {
   "cell_type": "code",
   "execution_count": 4,
   "id": "3d8a5705",
   "metadata": {},
   "outputs": [
    {
     "name": "stdout",
     "output_type": "stream",
     "text": [
      "[1, 10, 3]\n"
     ]
    }
   ],
   "source": [
    "# 4. Compare and contrast tuples and lists with examples\n",
    "'''\n",
    "#  Tuples are immutable (cannot be changed)\n",
    "#  lists are mutable (can be modified).\n",
    "\n",
    "#  Tuples are usually used when you need to store data that shouldn’t be modified.\n",
    "#  Lists are more flexible and can grow or shrink.\n",
    "\n",
    "'''\n",
    "\n",
    "# Example\n",
    "\n",
    "my_list = [1, 2, 3]  # List\n",
    "my_tuple = (1, 2, 3)  # Tuple\n",
    "\n",
    "# Modifying list\n",
    "my_list[1] = 10\n",
    "print(my_list)  # Output: [1, 10, 3]\n",
    "\n",
    "### Modifying tuple (This will raise an error)\n",
    "# my_tuple[1] = 10  # it will give TypeError"
   ]
  },
  {
   "cell_type": "code",
   "execution_count": 5,
   "id": "4ce5394f",
   "metadata": {},
   "outputs": [
    {
     "ename": "TypeError",
     "evalue": "'tuple' object does not support item assignment",
     "output_type": "error",
     "traceback": [
      "\u001b[1;31m---------------------------------------------------------------------------\u001b[0m",
      "\u001b[1;31mTypeError\u001b[0m                                 Traceback (most recent call last)",
      "Cell \u001b[1;32mIn[5], line 1\u001b[0m\n\u001b[1;32m----> 1\u001b[0m my_tuple[\u001b[38;5;241m1\u001b[39m] \u001b[38;5;241m=\u001b[39m \u001b[38;5;241m10\u001b[39m\n",
      "\u001b[1;31mTypeError\u001b[0m: 'tuple' object does not support item assignment"
     ]
    }
   ],
   "source": [
    " my_tuple[1] = 10  # it will give TypeError"
   ]
  },
  {
   "cell_type": "code",
   "execution_count": 6,
   "id": "d1ca9c4f",
   "metadata": {},
   "outputs": [
    {
     "name": "stdout",
     "output_type": "stream",
     "text": [
      "{1, 2, 3, 4, 5}\n",
      "{1, 2, 3, 4, 5, 6}\n",
      "{1, 3, 4, 5, 6}\n"
     ]
    }
   ],
   "source": [
    "# 5. Describe the key features of sets and provide examples of their use\n",
    "'''\n",
    "# A set is a collection of unique items. Sets are unordered, mutable, and do not allow duplicates.\n",
    "\n",
    "# Unordered: The items do not have an index or a defined order.\n",
    "\n",
    "# Mutable: You can add and remove elements.\n",
    "\n",
    "# No Duplicates: Sets automatically remove duplicate values\n",
    "\n",
    "'''\n",
    "# Example \n",
    "my_set = {1, 2, 3, 4, 5}\n",
    "print(my_set)  # Output: {1, 2, 3, 4, 5}\n",
    "\n",
    "# Adding an element\n",
    "my_set.add(6)\n",
    "print(my_set)  # Output: {1, 2, 3, 4, 5, 6}\n",
    "\n",
    "# Removing an element\n",
    "my_set.remove(2)\n",
    "print(my_set)  # Output: {1, 3, 4, 5, 6}"
   ]
  },
  {
   "cell_type": "code",
   "execution_count": 7,
   "id": "f4cb9597",
   "metadata": {},
   "outputs": [
    {
     "name": "stdout",
     "output_type": "stream",
     "text": [
      "{1, 2, 3, 4, 5}\n",
      "{3}\n"
     ]
    }
   ],
   "source": [
    "# 6. Discuss the use cases of tuples and sets in Python programming\n",
    "\n",
    "'''\n",
    "\n",
    "#  Tuples are ideal for representing fixed collections of data (like coordinates or days of the week).\n",
    "\n",
    "#  Sets: Use when you want to store unique elements and do not care about the order, such as tracking unique items in a collection.\n",
    "\n",
    "'''\n",
    "# Example\n",
    "# Tuple for fixed data\n",
    "coordinates = (10, 20)\n",
    "\n",
    "# Set operations\n",
    "a = {1, 2, 3}\n",
    "b = {3, 4, 5}\n",
    "print(a.union(b))          # Output: {1, 2, 3, 4, 5}\n",
    "print(a.intersection(b))   # Output: {3}"
   ]
  },
  {
   "cell_type": "code",
   "execution_count": 9,
   "id": "1e7f0687",
   "metadata": {},
   "outputs": [
    {
     "name": "stdout",
     "output_type": "stream",
     "text": [
      "{'name': 'Alice', 'age': 25}\n",
      "{'name': 'Alice', 'age': 25, 'city': 'New York'}\n",
      "{'name': 'Alice', 'age': 26, 'city': 'New York'}\n",
      "{'name': 'Alice', 'age': 26}\n"
     ]
    }
   ],
   "source": [
    "# 7. Describe how to add, modify, and delete items in a dictionary with examples\n",
    "\n",
    "'''\n",
    "# A dictionary stores key-value pairs, where keys must be unique and immutable.\n",
    "\n",
    "# Add: You can add key-value pairs by assigning values to new keys.\n",
    "# Modify: You can change the value associated with a key.\n",
    "# Delete: You can delete key-value pairs using del or pop()\n",
    "\n",
    "'''\n",
    "# Example \n",
    "my_dict = {\"name\": \"Alice\", \"age\": 25}\n",
    "print(my_dict)\n",
    "\n",
    "# Add a new key-value pair\n",
    "my_dict[\"city\"] = \"New York\"\n",
    "print(my_dict)  # Output: {'name': 'Alice', 'age': 25, 'city': 'New York'}\n",
    "\n",
    "# Modify the value of an existing key\n",
    "my_dict[\"age\"] = 26\n",
    "print(my_dict)  # Output: {'name': 'Alice', 'age': 26, 'city': 'New York'}\n",
    "\n",
    "# Delete a key-value pair\n",
    "del my_dict[\"city\"]\n",
    "print(my_dict)  # Output: {'name': 'Alice', 'age': 26}"
   ]
  },
  {
   "cell_type": "code",
   "execution_count": 12,
   "id": "e1b4acc9",
   "metadata": {},
   "outputs": [
    {
     "name": "stdout",
     "output_type": "stream",
     "text": [
      "one\n",
      "Alice\n",
      "New York City\n"
     ]
    }
   ],
   "source": [
    "# 8. Discuss the importance of dictionary keys being immutable and provide examples\n",
    "\n",
    "'''\n",
    "#   dictionary keys must be immutable because they are used to calculate a hash value. \n",
    "If you change the key, the hash value would change, causing issues when retrieving values.\n",
    "\n",
    "'''\n",
    "# Example \n",
    "# Using an integer and a string as keys\n",
    "my_dict = {1: \"one\", \"name\": \"Alice\"}\n",
    "print(my_dict[1])      # Output: one\n",
    "print(my_dict[\"name\"])  # Output: Alice\n",
    "\n",
    "# Attempting to use a list as a key\n",
    "# my_dict = {[1, 2, 3]: \"value\"}  # Raises TypeError: unhashable type: 'list'\n",
    "\n",
    "\n",
    "# Using a tuple as a key\n",
    "location = {(40.7128, -74.0060): \"New York City\"}\n",
    "print(location[(40.7128, -74.0060)])  # Output: New York City"
   ]
  },
  {
   "cell_type": "code",
   "execution_count": 13,
   "id": "061f4816",
   "metadata": {},
   "outputs": [
    {
     "ename": "TypeError",
     "evalue": "unhashable type: 'list'",
     "output_type": "error",
     "traceback": [
      "\u001b[1;31m---------------------------------------------------------------------------\u001b[0m",
      "\u001b[1;31mTypeError\u001b[0m                                 Traceback (most recent call last)",
      "Cell \u001b[1;32mIn[13], line 2\u001b[0m\n\u001b[0;32m      1\u001b[0m \u001b[38;5;66;03m# Attempting to use a list as a key\u001b[39;00m\n\u001b[1;32m----> 2\u001b[0m my_dict \u001b[38;5;241m=\u001b[39m {[\u001b[38;5;241m1\u001b[39m, \u001b[38;5;241m2\u001b[39m, \u001b[38;5;241m3\u001b[39m]: \u001b[38;5;124m\"\u001b[39m\u001b[38;5;124mvalue\u001b[39m\u001b[38;5;124m\"\u001b[39m}\n",
      "\u001b[1;31mTypeError\u001b[0m: unhashable type: 'list'"
     ]
    }
   ],
   "source": [
    "# Attempting to use a list as a key\n",
    "my_dict = {[1, 2, 3]: \"value\"}  # Raises TypeError: unhashable type: 'list'"
   ]
  },
  {
   "cell_type": "code",
   "execution_count": null,
   "id": "e27dccb2",
   "metadata": {},
   "outputs": [],
   "source": []
  }
 ],
 "metadata": {
  "kernelspec": {
   "display_name": "Python 3 (ipykernel)",
   "language": "python",
   "name": "python3"
  },
  "language_info": {
   "codemirror_mode": {
    "name": "ipython",
    "version": 3
   },
   "file_extension": ".py",
   "mimetype": "text/x-python",
   "name": "python",
   "nbconvert_exporter": "python",
   "pygments_lexer": "ipython3",
   "version": "3.11.5"
  }
 },
 "nbformat": 4,
 "nbformat_minor": 5
}
